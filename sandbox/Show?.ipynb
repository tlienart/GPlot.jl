{
 "cells": [
  {
   "cell_type": "code",
   "execution_count": 1,
   "metadata": {},
   "outputs": [],
   "source": [
    "cd(expanduser(\"~/.julia/dev/GPlot.jl/src\"))"
   ]
  },
  {
   "cell_type": "code",
   "execution_count": 2,
   "metadata": {},
   "outputs": [
    {
     "data": {
      "text/plain": [
       "true"
      ]
     },
     "execution_count": 2,
     "metadata": {},
     "output_type": "execute_result"
    }
   ],
   "source": [
    "using Parameters\n",
    "using Colors\n",
    "using DelimitedFiles\n",
    "using Random\n",
    "\n",
    "isjupyter = isdefined(Main, :IJulia) && Main.IJulia.inited"
   ]
  },
  {
   "cell_type": "code",
   "execution_count": 3,
   "metadata": {},
   "outputs": [
    {
     "data": {
      "text/plain": [
       "plot (generic function with 2 methods)"
      ]
     },
     "execution_count": 3,
     "metadata": {},
     "output_type": "execute_result"
    }
   ],
   "source": [
    "include(\"utils.jl\")\n",
    "include(\"types/drawing.jl\")\n",
    "include(\"types/figure.jl\")\n",
    "include(\"gle/apply_drawing.jl\")\n",
    "include(\"gnuplot/apply_drawing.jl\")\n",
    "include(\"plot.jl\")"
   ]
  },
  {
   "cell_type": "code",
   "execution_count": 8,
   "metadata": {},
   "outputs": [],
   "source": [
    "function Base.show(io::IO, ::MIME\"image/png\", fig::Figure)\n",
    "    r = read(\"sandbox/age.png\")\n",
    "    write(io, r)\n",
    "end"
   ]
  },
  {
   "cell_type": "code",
   "execution_count": 5,
   "metadata": {},
   "outputs": [
    {
     "data": {
      "text/plain": [
       "Base.RefValue{String}(\"\")"
      ]
     },
     "execution_count": 5,
     "metadata": {},
     "output_type": "execute_result"
    }
   ],
   "source": [
    "const GP_ALLFIGS = Dict{String, Figure}()\n",
    "const GP_CURFIG = Ref{String}(\"\")"
   ]
  },
  {
   "cell_type": "code",
   "execution_count": 9,
   "metadata": {},
   "outputs": [
    {
     "data": {
      "text/plain": [
       "Figure(\"fig_ZEb\", Axes[Axes\n",
       "  xaxis: Axis\n",
       "  yaxis: Axis\n",
       "  elements: Array{Drawing}((0,))\n",
       "  zaxis: Nothing nothing\n",
       "  title: Nothing nothing\n",
       "  size: Nothing nothing\n",
       "])"
      ]
     },
     "execution_count": 9,
     "metadata": {},
     "output_type": "execute_result"
    }
   ],
   "source": [
    "f = Figure()"
   ]
  },
  {
   "cell_type": "code",
   "execution_count": 10,
   "metadata": {},
   "outputs": [
    {
     "name": "stdout",
     "output_type": "stream",
     "text": [
      "Figure(\"fig_ZEb\", Axes[Axes\n",
      "  xaxis: Axis\n",
      "  yaxis: Axis\n",
      "  elements: Array{Drawing}((0,))\n",
      "  zaxis: Nothing nothing\n",
      "  title: Nothing nothing\n",
      "  size: Nothing nothing\n",
      "])"
     ]
    }
   ],
   "source": [
    "show(f)"
   ]
  },
  {
   "cell_type": "code",
   "execution_count": null,
   "metadata": {},
   "outputs": [],
   "source": []
  }
 ],
 "metadata": {
  "kernelspec": {
   "display_name": "Julia 1.1.0-DEV",
   "language": "julia",
   "name": "julia-1.1"
  },
  "language_info": {
   "file_extension": ".jl",
   "mimetype": "application/julia",
   "name": "julia",
   "version": "1.1.0"
  }
 },
 "nbformat": 4,
 "nbformat_minor": 2
}
